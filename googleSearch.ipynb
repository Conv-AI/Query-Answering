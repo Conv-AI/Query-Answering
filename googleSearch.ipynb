{
 "metadata": {
  "language_info": {
   "codemirror_mode": {
    "name": "ipython",
    "version": 3
   },
   "file_extension": ".py",
   "mimetype": "text/x-python",
   "name": "python",
   "nbconvert_exporter": "python",
   "pygments_lexer": "ipython3",
   "version": "3.8.5-final"
  },
  "orig_nbformat": 2,
  "kernelspec": {
   "name": "python3",
   "display_name": "Python 3"
  }
 },
 "nbformat": 4,
 "nbformat_minor": 2,
 "cells": [
  {
   "cell_type": "code",
   "execution_count": 21,
   "metadata": {},
   "outputs": [],
   "source": [
    "import os\n",
    "import sys\n",
    "import time\n",
    "import random\n",
    "import pprint\n",
    "\n",
    "# sys.path.append(os.path.dirname(os.path.dirname(__file__)))\n",
    "from magic_google import MagicGoogle"
   ]
  },
  {
   "cell_type": "code",
   "execution_count": 22,
   "metadata": {},
   "outputs": [],
   "source": [
    "PROXIES1 = [{\n",
    "    'http': 'http://127.0.0.1:1087',\n",
    "    'https': 'http://127.0.0.1:1087'\n",
    "}]\n",
    "\n",
    "PROXIES2 = None\n",
    "\n",
    "# Or MagicGoogle()\n",
    "mg = MagicGoogle(PROXIES2)"
   ]
  },
  {
   "cell_type": "code",
   "execution_count": 23,
   "metadata": {},
   "outputs": [
    {
     "output_type": "stream",
     "name": "stderr",
     "text": [
      "2020-11-10 19:33:54,084 - magic_google - INFO: https://www.google.com/search?hl=en&q=python&btnG=Search&gbv=1&num=1\n",
      "{'text': 'Python.org\\n'\n",
      "         'www.python.org\\n'\n",
      "         'The official home of the Python Programming Language.',\n",
      " 'title': 'Python.org',\n",
      " 'url': 'https://www.python.org/',\n",
      " 'url_path': 'www.python.org'}\n",
      "{'text': \"It's often used as a “scripting language” for web applications. This \"\n",
      "         'means that it can automate specific series of tasks, making it more '\n",
      "         'efficient. Consequently, Python (and languages like it) is often '\n",
      "         'used in software applications, pages within a web browser, the '\n",
      "         'shells of operating systems and some games.\\n'\n",
      "         'What is Python used for? - Code Institute\\n'\n",
      "         'codeinstitute.net > blog > what-is-python-used-for',\n",
      " 'title': '',\n",
      " 'url': 'https://codeinstitute.net/blog/what-is-python-used-for/',\n",
      " 'url_path': 'codeinstitute.net > blog > what-is-python-used-for'}\n",
      "{'text': \"There couldn't be a better time for you to join the world of Python! \"\n",
      "         'Learn Python In 3 Days :Step by Step Guide for Beginners to Advanced '\n",
      "         \"is the world's best-selling guide to the Python programming \"\n",
      "         'language. This fast-paced,Learn the fundamentals of Python and '\n",
      "         'practice problems.\\n'\n",
      "         'Learn Python 3 In 3 Days: Step by Step Guide for Beginners to ...\\n'\n",
      "         'www.amazon.in > Learn-Python-Days-Beginners-Advanced-ebook',\n",
      " 'title': '',\n",
      " 'url': 'https://www.amazon.in/Learn-Python-Days-Beginners-Advanced-ebook/dp/B08C47LDS7',\n",
      " 'url_path': 'www.amazon.in > Learn-Python-Days-Beginners-Advanced-ebook'}\n",
      "{'text': 'Python is an interpreted, object-oriented, high-level programming '\n",
      "         \"language with dynamic semantics. ... Python's simple, easy to learn \"\n",
      "         'syntax emphasizes readability and therefore reduces the cost of '\n",
      "         'program maintenance. Python supports modules and packages, which '\n",
      "         'encourages program modularity and code reuse.\\n'\n",
      "         'What is Python? Executive Summary | Python.org\\n'\n",
      "         'www.python.org > doc > essays > blurb',\n",
      " 'title': '',\n",
      " 'url': 'https://www.python.org/doc/essays/blurb/',\n",
      " 'url_path': 'www.python.org > doc > essays > blurb'}\n",
      "{'text': 'Python is a dynamic, interpreted (bytecode-compiled) language. ... '\n",
      "         'Python tracks the types of all values at runtime and flags code that '\n",
      "         'does not make sense as it runs. An excellent way to see how Python '\n",
      "         'code works is to run the Python interpreter and type code right into '\n",
      "         'it.\\n'\n",
      "         'Python Introduction | Python Education | Google Developers\\n'\n",
      "         'developers.google.com > edu > python > introduction',\n",
      " 'title': '',\n",
      " 'url': 'https://developers.google.com/edu/python/introduction',\n",
      " 'url_path': 'developers.google.com > edu > python > introduction'}\n"
     ]
    }
   ],
   "source": [
    "for i in mg.search(query='python', num=1, language='en'):\n",
    "    pprint.pprint(i)\n"
   ]
  },
  {
   "cell_type": "code",
   "execution_count": 24,
   "metadata": {},
   "outputs": [
    {
     "output_type": "stream",
     "name": "stderr",
     "text": [
      "2020-11-10 19:33:57,039 - magic_google - INFO: https://www.google.com/search?q=python&btnG=Search&gbv=1\n",
      "'https://www.python.org/'\n",
      "'https://en.wikipedia.org/wiki/Python_(programming_language)'\n",
      "'https://www.w3schools.com/python/'\n",
      "'https://www.tutorialspoint.com/python/index.htm'\n",
      "'https://codeinstitute.net/blog/what-is-python-used-for/'\n",
      "'https://www.amazon.in/Learn-Python-Days-Beginners-Advanced-ebook/dp/B08C47LDS7'\n",
      "'https://www.python.org/doc/essays/blurb/'\n",
      "'https://www.upgrad.com/blog/reasons-why-python-popular-with-developers/'\n",
      "'https://www.learnpython.org/'\n",
      "'https://www.geeksforgeeks.org/python-programming-language/'\n",
      "'https://github.com/python'\n"
     ]
    }
   ],
   "source": [
    "for url in mg.search_url(query='python'):\n",
    "    pprint.pprint(url)"
   ]
  },
  {
   "cell_type": "code",
   "execution_count": 25,
   "metadata": {},
   "outputs": [
    {
     "output_type": "stream",
     "name": "stderr",
     "text": [
      "2020-11-10 19:33:59,955 - magic_google - INFO: https://www.google.com/search?q=python&btnG=Search&gbv=1&num=None&start=10\n",
      "'https://www.codecademy.com/learn/learn-python'\n",
      "'https://www.programiz.com/python-programming/online-compiler/'\n",
      "'https://www.programiz.com/python-programming'\n",
      "'https://www.coursera.org/specializations/python'\n",
      "'https://github.com/python/cpython'\n",
      "'https://pypi.org/'\n",
      "'https://www.kaggle.com/learn/python'\n",
      "'https://aws.amazon.com/developer/language/python/'\n",
      "'https://www.edx.org/learn/python'\n",
      "'https://www.youtube.com/watch?v=woVJ4N5nl_s'\n",
      "'https://www.youtube.com/watch?v=woVJ4N5nl_s'\n"
     ]
    }
   ],
   "source": [
    "for url in mg.search_url(query='python', start=10):\n",
    "    pprint.pprint(url)"
   ]
  },
  {
   "cell_type": "code",
   "execution_count": null,
   "metadata": {},
   "outputs": [],
   "source": []
  }
 ]
}